{
 "cells": [
  {
   "cell_type": "markdown",
   "id": "175e1f64-3e21-4c7d-86d9-7a9710d4631c",
   "metadata": {
    "tags": []
   },
   "source": [
    "# Creating & Accessing SQLite DB w/ Python"
   ]
  },
  {
   "cell_type": "markdown",
   "id": "550316c4-b807-4171-b233-5aa80b296ae9",
   "metadata": {
    "tags": []
   },
   "source": [
    "### First, what is SQLite?"
   ]
  },
  {
   "cell_type": "markdown",
   "id": "578a80b1-d40b-4b3d-81f1-7743ecc30fa7",
   "metadata": {
    "tags": []
   },
   "source": [
    "SQLite is the most widely deployed SQL database engine in the world. </br>\n",
    "It is self-contained, serverless, transactional, and requires zero-configuration"
   ]
  },
  {
   "cell_type": "markdown",
   "id": "ec98c0f4-4d36-4726-a0c8-1fceb111f497",
   "metadata": {},
   "source": [
    "### Creating a database using SQLite"
   ]
  },
  {
   "cell_type": "markdown",
   "id": "56af9981-de94-42a7-8721-c1026bb5a3ec",
   "metadata": {},
   "source": [
    "First, we'll need to import our dependancies and establish our connection"
   ]
  },
  {
   "cell_type": "code",
   "execution_count": 10,
   "id": "e47f8dfb-42e6-4acb-8a84-5737b5640b09",
   "metadata": {
    "tags": []
   },
   "outputs": [],
   "source": [
    "import sqlite3\n",
    "conn = sqlite3.connect('INSTRUCTOR.db')"
   ]
  },
  {
   "cell_type": "markdown",
   "id": "fcce1e5e-0c06-4c15-8e03-812510138e0b",
   "metadata": {},
   "source": [
    "Here, we'll be creating our cursor.</br>\n",
    "A Cursor is used to invoke methods which will execute SQLite statements as well as fetch data from result sets. "
   ]
  },
  {
   "cell_type": "code",
   "execution_count": 14,
   "id": "9c63e5e1-255d-4604-a3e6-f3bc7a7a1719",
   "metadata": {
    "tags": []
   },
   "outputs": [],
   "source": [
    "cursor_obj = conn.cursor()"
   ]
  },
  {
   "cell_type": "markdown",
   "id": "e842653a-589b-434f-8b74-f0925d13c0bb",
   "metadata": {},
   "source": [
    "### Creating a table"
   ]
  },
  {
   "cell_type": "markdown",
   "id": "540c4975-fefb-4f6f-bb33-0011056195d9",
   "metadata": {},
   "source": [
    "Before creating a table, let's check to see if the table alrady exists or not."
   ]
  },
  {
   "cell_type": "code",
   "execution_count": 11,
   "id": "1b47d2cc-677a-4d50-b993-5389105c77b5",
   "metadata": {
    "tags": []
   },
   "outputs": [
    {
     "data": {
      "text/plain": [
       "<sqlite3.Cursor at 0x1092a8840>"
      ]
     },
     "execution_count": 11,
     "metadata": {},
     "output_type": "execute_result"
    }
   ],
   "source": [
    "cursor_obj.execute('DROP TABLE IF EXISTS INSTRUCTOR')"
   ]
  },
  {
   "cell_type": "code",
   "execution_count": 13,
   "id": "d36725ee-7638-4bb1-8f03-fc7bb3494ec5",
   "metadata": {
    "tags": []
   },
   "outputs": [
    {
     "name": "stdout",
     "output_type": "stream",
     "text": [
      "Table is Ready\n"
     ]
    }
   ],
   "source": [
    "# Creating table\n",
    "table = \"\"\" create table IF NOT EXISTS \n",
    "INSTRUCTOR(ID INTEGER PRIMARY KEY NOT NULL, FNAME VARCHAR(20),\n",
    "LNAME VARCHAR(20), CITY VARCHAR(20), CCODE CHAR(2));\"\"\"\n",
    " \n",
    "cursor_obj.execute(table)\n",
    " \n",
    "print(\"Table is Ready\")"
   ]
  },
  {
   "cell_type": "markdown",
   "id": "81889351-f8e5-48c5-8ffa-dec50602eb8e",
   "metadata": {},
   "source": [
    "### Inserting data into table"
   ]
  },
  {
   "cell_type": "markdown",
   "id": "d70d4ff7-55ea-4098-9b29-5b66e6bb4a79",
   "metadata": {},
   "source": [
    "Let's start by inserting only our first row of data."
   ]
  },
  {
   "cell_type": "code",
   "execution_count": 18,
   "id": "cc552768-aacd-49c3-a690-3753d1102d38",
   "metadata": {
    "tags": []
   },
   "outputs": [
    {
     "data": {
      "text/plain": [
       "<sqlite3.Cursor at 0x1092aa8c0>"
      ]
     },
     "execution_count": 18,
     "metadata": {},
     "output_type": "execute_result"
    }
   ],
   "source": [
    "cursor_obj.execute('''insert into INSTRUCTOR values\n",
    "(4, 'Rav', 'Ahuja', 'TORONTO', 'CA')''')"
   ]
  },
  {
   "cell_type": "markdown",
   "id": "a2e47419-25e5-4e98-95ee-7562dcbf65e9",
   "metadata": {},
   "source": [
    "Now, let's insert the remaining two rows of data."
   ]
  },
  {
   "cell_type": "code",
   "execution_count": 17,
   "id": "15804b09-e897-4557-891c-b68141ac0606",
   "metadata": {
    "tags": []
   },
   "outputs": [
    {
     "data": {
      "text/plain": [
       "<sqlite3.Cursor at 0x1092aa8c0>"
      ]
     },
     "execution_count": 17,
     "metadata": {},
     "output_type": "execute_result"
    }
   ],
   "source": [
    "cursor_obj.execute('''insert into INSTRUCTOR values (2, 'Raul', 'Chong', 'Markham', 'CA'), \n",
    "(3, 'Hima', 'Vasudevan', 'Chicago', 'US')''')"
   ]
  },
  {
   "cell_type": "markdown",
   "id": "bc95077c-4a8d-4fb4-8f8f-fba0d414d197",
   "metadata": {},
   "source": [
    "### Querying data from table"
   ]
  },
  {
   "cell_type": "markdown",
   "id": "11f36536-1b1e-4263-bcb9-89d36a8b8a7c",
   "metadata": {},
   "source": [
    "First, we'll fetch for all the rows in the table"
   ]
  },
  {
   "cell_type": "code",
   "execution_count": 19,
   "id": "5d9e615f-ad6a-468f-9e67-c186ba380f16",
   "metadata": {
    "tags": []
   },
   "outputs": [
    {
     "name": "stdout",
     "output_type": "stream",
     "text": [
      "All the data\n",
      "(1, 'Rav', 'Ahuja', 'TORONTO', 'CA')\n",
      "(2, 'Raul', 'Chong', 'Markham', 'CA')\n",
      "(3, 'Hima', 'Vasudevan', 'Chicago', 'US')\n",
      "(4, 'Rav', 'Ahuja', 'TORONTO', 'CA')\n"
     ]
    }
   ],
   "source": [
    "statement = '''SELECT * FROM INSTRUCTOR'''\n",
    "cursor_obj.execute(statement)\n",
    "\n",
    "print(\"All the data\")\n",
    "output_all = cursor_obj.fetchall()\n",
    "for row_all in output_all:\n",
    "  print(row_all)"
   ]
  },
  {
   "cell_type": "markdown",
   "id": "2a95a19e-22e3-4a34-998b-b399633b6604",
   "metadata": {
    "tags": []
   },
   "source": [
    "Now, let's only fetch a couple rows"
   ]
  },
  {
   "cell_type": "code",
   "execution_count": 25,
   "id": "62d8e161-8ca1-4d6e-88df-1cb9b134bc8e",
   "metadata": {
    "tags": []
   },
   "outputs": [
    {
     "name": "stdout",
     "output_type": "stream",
     "text": [
      "2 rows\n",
      "(1, 'Rav', 'Ahuja', 'TORONTO', 'CA')\n",
      "(2, 'Raul', 'Chong', 'Markham', 'CA')\n"
     ]
    }
   ],
   "source": [
    "# We will limit our result set using our cursor object instead of our query\n",
    "statement = '''SELECT * FROM INSTRUCTOR'''\n",
    "cursor_obj.execute(statement)\n",
    "  \n",
    "print(\"2 rows\")\n",
    "# If you want to fetch few rows from the table we use fetchmany(numberofrows) and mention the number how many rows you want to fetch\n",
    "output_many = cursor_obj.fetchmany(2) \n",
    "for row_many in output_many:\n",
    "  print(row_many)"
   ]
  },
  {
   "cell_type": "markdown",
   "id": "3be369ea-7b01-4ac3-ab33-485b67b01467",
   "metadata": {},
   "source": [
    "Lastly, let's only fetch the FNAME column"
   ]
  },
  {
   "cell_type": "code",
   "execution_count": 26,
   "id": "d972e1c7-e3e6-4293-b7f9-83dd6f6349ee",
   "metadata": {
    "tags": []
   },
   "outputs": [
    {
     "name": "stdout",
     "output_type": "stream",
     "text": [
      "All the data\n",
      "('Rav',)\n",
      "('Raul',)\n",
      "('Hima',)\n",
      "('Rav',)\n"
     ]
    }
   ],
   "source": [
    "# Fetch only FNAME from the table\n",
    "# We will limit our result set using our query\n",
    "statement = '''SELECT FNAME FROM INSTRUCTOR'''\n",
    "cursor_obj.execute(statement)\n",
    "  \n",
    "print(\"All the data\")\n",
    "output_column = cursor_obj.fetchall()\n",
    "for fetch in output_column:\n",
    "  print(fetch)"
   ]
  },
  {
   "cell_type": "markdown",
   "id": "cf04683b-3672-484f-8499-7a8f9e33a83e",
   "metadata": {
    "tags": []
   },
   "source": [
    "### Loading our data into Pandas"
   ]
  },
  {
   "cell_type": "code",
   "execution_count": 28,
   "id": "3f000d78-6bbe-4780-a724-3ca252d0dc1a",
   "metadata": {
    "tags": []
   },
   "outputs": [
    {
     "data": {
      "text/html": [
       "<div>\n",
       "<style scoped>\n",
       "    .dataframe tbody tr th:only-of-type {\n",
       "        vertical-align: middle;\n",
       "    }\n",
       "\n",
       "    .dataframe tbody tr th {\n",
       "        vertical-align: top;\n",
       "    }\n",
       "\n",
       "    .dataframe thead th {\n",
       "        text-align: right;\n",
       "    }\n",
       "</style>\n",
       "<table border=\"1\" class=\"dataframe\">\n",
       "  <thead>\n",
       "    <tr style=\"text-align: right;\">\n",
       "      <th></th>\n",
       "      <th>ID</th>\n",
       "      <th>FNAME</th>\n",
       "      <th>LNAME</th>\n",
       "      <th>CITY</th>\n",
       "      <th>CCODE</th>\n",
       "    </tr>\n",
       "  </thead>\n",
       "  <tbody>\n",
       "    <tr>\n",
       "      <th>0</th>\n",
       "      <td>1</td>\n",
       "      <td>Rav</td>\n",
       "      <td>Ahuja</td>\n",
       "      <td>TORONTO</td>\n",
       "      <td>CA</td>\n",
       "    </tr>\n",
       "    <tr>\n",
       "      <th>1</th>\n",
       "      <td>2</td>\n",
       "      <td>Raul</td>\n",
       "      <td>Chong</td>\n",
       "      <td>Markham</td>\n",
       "      <td>CA</td>\n",
       "    </tr>\n",
       "    <tr>\n",
       "      <th>2</th>\n",
       "      <td>3</td>\n",
       "      <td>Hima</td>\n",
       "      <td>Vasudevan</td>\n",
       "      <td>Chicago</td>\n",
       "      <td>US</td>\n",
       "    </tr>\n",
       "    <tr>\n",
       "      <th>3</th>\n",
       "      <td>4</td>\n",
       "      <td>Rav</td>\n",
       "      <td>Ahuja</td>\n",
       "      <td>TORONTO</td>\n",
       "      <td>CA</td>\n",
       "    </tr>\n",
       "  </tbody>\n",
       "</table>\n",
       "</div>"
      ],
      "text/plain": [
       "   ID FNAME      LNAME     CITY CCODE\n",
       "0   1   Rav      Ahuja  TORONTO    CA\n",
       "1   2  Raul      Chong  Markham    CA\n",
       "2   3  Hima  Vasudevan  Chicago    US\n",
       "3   4   Rav      Ahuja  TORONTO    CA"
      ]
     },
     "execution_count": 28,
     "metadata": {},
     "output_type": "execute_result"
    }
   ],
   "source": [
    "import pandas as pd\n",
    "df = pd.read_sql_query('select * from instructor;', conn)\n",
    "df"
   ]
  },
  {
   "cell_type": "markdown",
   "id": "cf338ec3-d4b5-4072-b201-1d8ca3e535d7",
   "metadata": {},
   "source": [
    "### Lastly, we must close our connection."
   ]
  },
  {
   "cell_type": "code",
   "execution_count": 29,
   "id": "2e474fa7-6ec8-4d0c-b7ba-e75fdae74eeb",
   "metadata": {
    "tags": []
   },
   "outputs": [],
   "source": [
    "conn.close()"
   ]
  },
  {
   "cell_type": "code",
   "execution_count": null,
   "id": "a20be89a-1a04-4ac3-a628-b05a946c2d97",
   "metadata": {},
   "outputs": [],
   "source": []
  }
 ],
 "metadata": {
  "kernelspec": {
   "display_name": "Python 3 (ipykernel)",
   "language": "python",
   "name": "python3"
  },
  "language_info": {
   "codemirror_mode": {
    "name": "ipython",
    "version": 3
   },
   "file_extension": ".py",
   "mimetype": "text/x-python",
   "name": "python",
   "nbconvert_exporter": "python",
   "pygments_lexer": "ipython3",
   "version": "3.11.3"
  }
 },
 "nbformat": 4,
 "nbformat_minor": 5
}
